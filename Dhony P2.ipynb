{
 "cells": [
  {
   "cell_type": "code",
   "execution_count": 2,
   "id": "de61f9d0",
   "metadata": {},
   "outputs": [],
   "source": [
    "import pandas as pd\n",
    "import urllib.request\n",
    "from sklearn.model_selection import train_test_split\n",
    "from sklearn.ensemble import RandomForestClassifier\n",
    "from sklearn.metrics import accuracy_score,confusion_matrix,classification_report"
   ]
  },
  {
   "cell_type": "code",
   "execution_count": 3,
   "id": "46108f98",
   "metadata": {},
   "outputs": [],
   "source": [
    "# Step 1: Load the dataset\n",
    "data = pd.read_csv('Sales_Data.csv')"
   ]
  },
  {
   "cell_type": "code",
   "execution_count": 4,
   "id": "9027da74",
   "metadata": {},
   "outputs": [
    {
     "name": "stdout",
     "output_type": "stream",
     "text": [
      "Columns in the dataset: Index(['Product_Code', 'W0', 'W1', 'W2', 'W3', 'W4', 'W5', 'W6', 'W7', 'W8',\n",
      "       ...\n",
      "       'Normalized 42', 'Normalized 43', 'Normalized 44', 'Normalized 45',\n",
      "       'Normalized 46', 'Normalized 47', 'Normalized 48', 'Normalized 49',\n",
      "       'Normalized 50', 'Normalized 51'],\n",
      "      dtype='object', length=107)\n",
      "  Product_Code  W0  W1  W2  W3  W4  W5  W6  W7  W8  ...  Normalized 42  \\\n",
      "0           P1  11  12  10   8  13  12  14  21   6  ...           0.06   \n",
      "1           P2   7   6   3   2   7   1   6   3   3  ...           0.20   \n",
      "2           P3   7  11   8   9  10   8   7  13  12  ...           0.27   \n",
      "3           P4  12   8  13   5   9   6   9  13  13  ...           0.41   \n",
      "4           P5   8   5  13  11   6   7   9  14   9  ...           0.27   \n",
      "\n",
      "   Normalized 43  Normalized 44  Normalized 45  Normalized 46  Normalized 47  \\\n",
      "0           0.22           0.28           0.39           0.50           0.00   \n",
      "1           0.40           0.50           0.10           0.10           0.40   \n",
      "2           1.00           0.18           0.18           0.36           0.45   \n",
      "3           0.47           0.06           0.12           0.24           0.35   \n",
      "4           0.53           0.27           0.60           0.20           0.20   \n",
      "\n",
      "   Normalized 48  Normalized 49  Normalized 50  Normalized 51  \n",
      "0           0.22           0.17           0.11           0.39  \n",
      "1           0.50           0.10           0.60           0.00  \n",
      "2           1.00           0.45           0.45           0.36  \n",
      "3           0.71           0.35           0.29           0.35  \n",
      "4           0.13           0.53           0.33           0.40  \n",
      "\n",
      "[5 rows x 107 columns]\n"
     ]
    }
   ],
   "source": [
    "# Step 2: Display first few rows and column names to understand the structure\n",
    "print(\"Columns in the dataset:\",data.columns)\n",
    "print(data.head())request"
   ]
  },
  {
   "cell_type": "code",
   "execution_count": 5,
   "id": "7a156010",
   "metadata": {},
   "outputs": [],
   "source": [
    "# Step 3: Strip spaces in column names to avoid any errors\n",
    "data.columns = data.columns.str.strip()"
   ]
  },
  {
   "cell_type": "code",
   "execution_count": 6,
   "id": "a01b1e37",
   "metadata": {},
   "outputs": [],
   "source": [
    "# Step 4: Handle missing values by replacing with the mean of numeric columns\n",
    "data.fillna(data.select_dtypes(include=['number']).mean(), inplace=True)"
   ]
  },
  {
   "cell_type": "code",
   "execution_count": 7,
   "id": "fd0e94b9",
   "metadata": {},
   "outputs": [
    {
     "name": "stdout",
     "output_type": "stream",
     "text": [
      "Columns in the dataset: Index(['Product_Code', 'W0', 'W1', 'W2', 'W3', 'W4', 'W5', 'W6', 'W7', 'W8',\n",
      "       ...\n",
      "       'Normalized 42', 'Normalized 43', 'Normalized 44', 'Normalized 45',\n",
      "       'Normalized 46', 'Normalized 47', 'Normalized 48', 'Normalized 49',\n",
      "       'Normalized 50', 'Normalized 51'],\n",
      "      dtype='object', length=107)\n"
     ]
    }
   ],
   "source": [
    "# Step 5: Inspect the dataset columns for normalized data\n",
    "print(\"Columns in the dataset:\", data.columns)"
   ]
  },
  {
   "cell_type": "code",
   "execution_count": 8,
   "id": "05d0abd7",
   "metadata": {},
   "outputs": [],
   "source": [
    "# Step 6: Check for relevant columns for creating 'High Sales' label\n",
    "high_sales_created = False"
   ]
  },
  {
   "cell_type": "code",
   "execution_count": 9,
   "id": "68c85f57",
   "metadata": {},
   "outputs": [],
   "source": [
    "# Check for one of the 'Normalized' columns (e.g., 'Normalized 1', 'Normalized 2', etc.)\n",
    "if 'Normalized 1' in data.columns: # Replace this with the actual relevant column you choose\n",
    "    threshold = data['Normalized 1'].mean()\n",
    "    data['High_Sales'] = (data['Normalized 1']> threshold).astype(int)\n",
    "    high_sales_created = True\n",
    "elif 'Normalized 2' in data.columns:\n",
    "    threshold = data['Normalized 2'].mean()\n",
    "    data['High_Sales'] = (data['Normalized 2']> threshold).astype(int)\n",
    "    high_sales_created = True\n",
    "else:\n",
    "    print(\"No normalized columns found for defining high sales.\")\n",
    "    exit()"
   ]
  },
  {
   "cell_type": "code",
   "execution_count": 10,
   "id": "fb00f151",
   "metadata": {},
   "outputs": [],
   "source": [
    "# Step 7: Encode categorical variables only if they exist\n",
    "if 'Product_Code' in data.columns:\n",
    "    data['Product_Code'] = data['Product_Code'].astype('category').cat.codes"
   ]
  },
  {
   "cell_type": "code",
   "execution_count": 11,
   "id": "1937ba07",
   "metadata": {},
   "outputs": [],
   "source": [
    "# Step 8: Define the features (X) and target (y) only if 'High Sales' was created\n",
    "if high_sales_created:\n",
    "    X = data.drop(columns=['High_Sales']) # Features\n",
    "    y = data['High_Sales'] # Target"
   ]
  },
  {
   "cell_type": "code",
   "execution_count": 12,
   "id": "204e649f",
   "metadata": {},
   "outputs": [],
   "source": [
    "# Step 9: Split the data into training and testing sets (80% train, 20% test)\n",
    "X_train,X_test, y_train, y_test = train_test_split(X, y,test_size=0.2, random_state=42)"
   ]
  },
  {
   "cell_type": "code",
   "execution_count": 13,
   "id": "2491ba99",
   "metadata": {},
   "outputs": [
    {
     "data": {
      "text/plain": [
       "RandomForestClassifier(random_state=42)"
      ]
     },
     "execution_count": 13,
     "metadata": {},
     "output_type": "execute_result"
    }
   ],
   "source": [
    "# Step 10: Initialize and train the RandomForestClassifier\n",
    "model = RandomForestClassifier(random_state=42)\n",
    "model.fit(X_train, y_train)"
   ]
  },
  {
   "cell_type": "code",
   "execution_count": 14,
   "id": "d86975af",
   "metadata": {},
   "outputs": [],
   "source": [
    "# Step 11: Evaluate the model\n",
    "y_pred = model.predict(X_test)"
   ]
  },
  {
   "cell_type": "code",
   "execution_count": 15,
   "id": "d9f03f9d",
   "metadata": {},
   "outputs": [
    {
     "name": "stdout",
     "output_type": "stream",
     "text": [
      "Accuracy:  100.000000%\n"
     ]
    }
   ],
   "source": [
    "# Accuracy\n",
    "accuracy = accuracy_score(y_test, y_pred)\n",
    "print(f\"Accuracy: {accuracy * 100: 2f}%\")"
   ]
  }
 ],
 "metadata": {
  "kernelspec": {
   "display_name": "Python 3 (ipykernel)",
   "language": "python",
   "name": "python3"
  },
  "language_info": {
   "codemirror_mode": {
    "name": "ipython",
    "version": 3
   },
   "file_extension": ".py",
   "mimetype": "text/x-python",
   "name": "python",
   "nbconvert_exporter": "python",
   "pygments_lexer": "ipython3",
   "version": "3.9.15"
  }
 },
 "nbformat": 4,
 "nbformat_minor": 5
}
