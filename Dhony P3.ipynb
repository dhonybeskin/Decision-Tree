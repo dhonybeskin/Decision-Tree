{
 "cells": [
  {
   "cell_type": "code",
   "execution_count": 14,
   "id": "9aa4e4e4",
   "metadata": {},
   "outputs": [],
   "source": [
    "import pandas as pd"
   ]
  },
  {
   "cell_type": "code",
   "execution_count": 16,
   "id": "c509b1c1",
   "metadata": {},
   "outputs": [],
   "source": [
    "data = {\n",
    "    'Outlook': ['Sunny', 'Sunny', 'Overcast', 'Rain', 'Rain', 'Rain', 'Overcast', 'Sunny', 'Sunny', 'Rain', 'Sunny', 'Overcast', 'Overcast', 'Rain'],\n",
    "    'Temperature': ['Hot', 'Hot', 'Hot', 'Mild', 'Cool', 'Cool', 'Cool', 'Mild', 'Cool', 'Mild', 'Mild', 'Mild', 'Hot', 'Mild'],\n",
    "    'Humidity': ['High', 'High', 'High', 'High', 'Low', 'Low', 'Low', 'High', 'Low', 'Low', 'High', 'High', 'Low', 'High'],\n",
    "    'Wind': ['Weak', 'Strong', 'Weak', 'Weak', 'Weak', 'Strong', 'Strong', 'Weak', 'Weak', 'Weak', 'Strong', 'Strong', 'Weak', 'Strong'],\n",
    "    'Enjoy Sport': ['No', 'No', 'Yes', 'Yes', 'Yes', 'No', 'Yes', 'No', 'Yes', 'Yes', 'Yes', 'Yes', 'Yes', 'No']\n",
    "}\n"
   ]
  },
  {
   "cell_type": "code",
   "execution_count": 17,
   "id": "8914e3a0",
   "metadata": {},
   "outputs": [],
   "source": [
    "df = pd.DataFrame(data)"
   ]
  },
  {
   "cell_type": "code",
   "execution_count": 18,
   "id": "93f67832",
   "metadata": {},
   "outputs": [],
   "source": [
    "positive_examples = df[df['Enjoy Sport'] == 'Yes']"
   ]
  },
  {
   "cell_type": "code",
   "execution_count": 19,
   "id": "efee09e0",
   "metadata": {},
   "outputs": [],
   "source": [
    "initial_hypothesis = positive_examples.iloc[0, :-1].values.tolist()\n",
    "hypothesis = initial_hypothesis.copy()"
   ]
  },
  {
   "cell_type": "code",
   "execution_count": 20,
   "id": "6ffeb7a0",
   "metadata": {},
   "outputs": [],
   "source": [
    "for index, example in positive_examples.iloc[1:].iterrows():\n",
    "    for i in range(len(hypothesis)):\n",
    "        # If the current hypothesis doesn't match the current example, ge\n",
    "\n",
    "# Step 2: Iterate through the remaining positive examples and generalize the hypothesis\n",
    "for index, example in positive_examples.iloc[1:].iterrows():neralize it\n",
    "        if hypothesis[i] != example[i]:\n",
    "            hypothesis[i] = \"?\""
   ]
  },
  {
   "cell_type": "code",
   "execution_count": 21,
   "id": "ce11cf08",
   "metadata": {},
   "outputs": [
    {
     "name": "stdout",
     "output_type": "stream",
     "text": [
      "The most specific hypothesis for the 'Enjoy Sport' concept is: ['?', '?', '?', '?']\n"
     ]
    }
   ],
   "source": [
    "print(f\"The most specific hypothesis for the 'Enjoy Sport' concept is: {hypothesis}\")"
   ]
  },
  {
   "cell_type": "code",
   "execution_count": null,
   "id": "f3b55f36",
   "metadata": {},
   "outputs": [],
   "source": []
  }
 ],
 "metadata": {
  "kernelspec": {
   "display_name": "Python 3 (ipykernel)",
   "language": "python",
   "name": "python3"
  },
  "language_info": {
   "codemirror_mode": {
    "name": "ipython",
    "version": 3
   },
   "file_extension": ".py",
   "mimetype": "text/x-python",
   "name": "python",
   "nbconvert_exporter": "python",
   "pygments_lexer": "ipython3",
   "version": "3.9.15"
  }
 },
 "nbformat": 4,
 "nbformat_minor": 5
}
